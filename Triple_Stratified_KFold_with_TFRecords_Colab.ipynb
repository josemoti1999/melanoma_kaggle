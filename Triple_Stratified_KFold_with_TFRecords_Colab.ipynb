{
  "nbformat": 4,
  "nbformat_minor": 0,
  "metadata": {
    "kernelspec": {
      "name": "python3",
      "display_name": "Python 3",
      "language": "python"
    },
    "language_info": {
      "name": "python",
      "version": "3.7.6",
      "mimetype": "text/x-python",
      "codemirror_mode": {
        "name": "ipython",
        "version": 3
      },
      "pygments_lexer": "ipython3",
      "nbconvert_exporter": "python",
      "file_extension": ".py"
    },
    "colab": {
      "name": "Triple Stratified KFold with TFRecords Colab.ipynb",
      "provenance": [],
      "collapsed_sections": []
    },
    "accelerator": "TPU"
  },
  "cells": [
    {
      "cell_type": "code",
      "metadata": {
        "id": "BKDpLk6KWARx",
        "colab_type": "code",
        "colab": {
          "base_uri": "https://localhost:8080/",
          "height": 34
        },
        "outputId": "e5f6af86-c8b0-4a48-e2b2-f25007954b8c"
      },
      "source": [
        "from google.colab import drive\n",
        "drive.mount('/content/drive')"
      ],
      "execution_count": null,
      "outputs": [
        {
          "output_type": "stream",
          "text": [
            "Drive already mounted at /content/drive; to attempt to forcibly remount, call drive.mount(\"/content/drive\", force_remount=True).\n"
          ],
          "name": "stdout"
        }
      ]
    },
    {
      "cell_type": "code",
      "metadata": {
        "id": "0AYtwRhw7TdM",
        "colab_type": "code",
        "colab": {}
      },
      "source": [
        "colab=1"
      ],
      "execution_count": null,
      "outputs": []
    },
    {
      "cell_type": "code",
      "metadata": {
        "id": "2DGYa40MP2ey",
        "colab_type": "code",
        "colab": {}
      },
      "source": [
        "!pip install tensorflow~=2.2.0 tensorflow_gcs_config~=2.2.0\n",
        "import tensorflow as tf\n",
        "import requests\n",
        "import os\n",
        "resp = requests.post(\"http://{}:8475/requestversion/{}\".format(os.environ[\"COLAB_TPU_ADDR\"].split(\":\")[0], tf.__version__))\n",
        "if resp.status_code != 200:\n",
        "  print(\"Failed to switch the TPU to TF {}\".format(version))"
      ],
      "execution_count": null,
      "outputs": []
    },
    {
      "cell_type": "code",
      "metadata": {
        "trusted": true,
        "id": "5Qve0Ce5jkwx",
        "colab_type": "code",
        "colab": {
          "base_uri": "https://localhost:8080/",
          "height": 34
        },
        "outputId": "7f86041f-9b43-42d3-8938-53b27d3cc497"
      },
      "source": [
        "!pip install -q efficientnet >> /dev/null\n",
        "\n",
        "import pandas as pd, numpy as np\n",
        "import tensorflow as tf, re, math, gc, os\n",
        "import random\n",
        "import tensorflow.keras.backend as K\n",
        "import tensorflow_hub as hub\n",
        "import efficientnet.tfkeras as efn\n",
        "from sklearn.model_selection import KFold\n",
        "from sklearn.metrics import roc_auc_score\n",
        "import matplotlib.pyplot as plt\n",
        "import tensorflow_addons as tfa\n",
        "print(tf.__version__)\n",
        "\n",
        "if not colab:\n",
        "    from kaggle_datasets import KaggleDatasets"
      ],
      "execution_count": null,
      "outputs": [
        {
          "output_type": "stream",
          "text": [
            "2.2.0\n"
          ],
          "name": "stdout"
        }
      ]
    },
    {
      "cell_type": "code",
      "metadata": {
        "_uuid": "d629ff2d2480ee46fbb7e2d37f6b5fab8052498a",
        "_cell_guid": "79c7e3d0-c299-4dcb-8224-4455121ee9b0",
        "trusted": true,
        "id": "mm5FlQh8jkw6",
        "colab_type": "code",
        "colab": {
          "base_uri": "https://localhost:8080/",
          "height": 35
        },
        "outputId": "fc6bc3cb-d72b-46eb-c0c0-b3281d0a714c"
      },
      "source": [
        "DEVICE = \"TPU\"\n",
        "SEED = 201\n",
        "FOLDS = 15\n",
        "IMG_SIZES = [384] * FOLDS\n",
        "\n",
        "INC2019 = [1] * FOLDS\n",
        "INC2018 = [1] * FOLDS\n",
        "MALIGNANT_EXTRA = [1] * FOLDS\n",
        "MALIGNANT_1 = [0] *FOLDS\n",
        "PSEUDO_LABELS = [0]*FOLDS\n",
        "\n",
        "BATCH_SIZES = [32] * FOLDS\n",
        "EPOCHS = [20] * FOLDS\n",
        "EFF_NETS = [5] * FOLDS\n",
        "WGTS = [1/FOLDS] * FOLDS\n",
        "TTA = 20\n",
        "VERBOSE = 1\n",
        "DISPLAY_PLOT = False\n",
        "FOLDER = 'Experiment_x41'\n",
        "\n",
        "if colab:\n",
        "    PATH = '/content/drive/My Drive/Kaggle/siim_melanoma_csvs/With_TTA_and_oof'\n",
        "else:\n",
        "    PATH=''\n",
        "PATH = os.path.join(PATH, FOLDER)\n",
        "os.makedirs(PATH, exist_ok=True)\n",
        "PATH"
      ],
      "execution_count": null,
      "outputs": [
        {
          "output_type": "execute_result",
          "data": {
            "application/vnd.google.colaboratory.intrinsic+json": {
              "type": "string"
            },
            "text/plain": [
              "'/content/drive/My Drive/Kaggle/siim_melanoma_csvs/With_TTA_and_oof/Experiment_x41'"
            ]
          },
          "metadata": {
            "tags": []
          },
          "execution_count": 5
        }
      ]
    },
    {
      "cell_type": "code",
      "metadata": {
        "trusted": true,
        "id": "z6Qtsry2jkxD",
        "colab_type": "code",
        "colab": {
          "base_uri": "https://localhost:8080/",
          "height": 836
        },
        "outputId": "0aa4708d-8b78-44e3-a4c2-570196b680cd"
      },
      "source": [
        "if DEVICE == \"TPU\":\n",
        "    print(\"connecting to TPU...\")\n",
        "    try:\n",
        "        tpu = tf.distribute.cluster_resolver.TPUClusterResolver()\n",
        "        print('Running on TPU ', tpu.master())\n",
        "    except ValueError:\n",
        "        print(\"Could not connect to TPU\")\n",
        "        tpu = None\n",
        "\n",
        "    if tpu:\n",
        "        try:\n",
        "            print(\"initializing  TPU ...\")\n",
        "            tf.config.experimental_connect_to_cluster(tpu)\n",
        "            tf.tpu.experimental.initialize_tpu_system(tpu)\n",
        "            strategy = tf.distribute.experimental.TPUStrategy(tpu)\n",
        "            print(\"TPU initialized\")\n",
        "        except _:\n",
        "            print(\"failed to initialize TPU\")\n",
        "    else:\n",
        "        DEVICE = \"GPU\"\n",
        "\n",
        "if DEVICE != \"TPU\":\n",
        "    print(\"Using default strategy for CPU and single GPU\")\n",
        "    strategy = tf.distribute.get_strategy()\n",
        "\n",
        "if DEVICE == \"GPU\":\n",
        "    print(\"Num GPUs Available: \", len(tf.config.experimental.list_physical_devices('GPU')))\n",
        "    \n",
        "\n",
        "AUTO     = tf.data.experimental.AUTOTUNE\n",
        "REPLICAS = strategy.num_replicas_in_sync\n",
        "print(f'REPLICAS: {REPLICAS}')"
      ],
      "execution_count": null,
      "outputs": [
        {
          "output_type": "stream",
          "text": [
            "connecting to TPU...\n",
            "Running on TPU  grpc://10.38.118.138:8470\n",
            "initializing  TPU ...\n",
            "WARNING:tensorflow:TPU system grpc://10.38.118.138:8470 has already been initialized. Reinitializing the TPU can cause previously created variables on TPU to be lost.\n"
          ],
          "name": "stdout"
        },
        {
          "output_type": "stream",
          "text": [
            "WARNING:tensorflow:TPU system grpc://10.38.118.138:8470 has already been initialized. Reinitializing the TPU can cause previously created variables on TPU to be lost.\n"
          ],
          "name": "stderr"
        },
        {
          "output_type": "stream",
          "text": [
            "INFO:tensorflow:Initializing the TPU system: grpc://10.38.118.138:8470\n"
          ],
          "name": "stdout"
        },
        {
          "output_type": "stream",
          "text": [
            "INFO:tensorflow:Initializing the TPU system: grpc://10.38.118.138:8470\n"
          ],
          "name": "stderr"
        },
        {
          "output_type": "stream",
          "text": [
            "INFO:tensorflow:Clearing out eager caches\n"
          ],
          "name": "stdout"
        },
        {
          "output_type": "stream",
          "text": [
            "INFO:tensorflow:Clearing out eager caches\n"
          ],
          "name": "stderr"
        },
        {
          "output_type": "stream",
          "text": [
            "INFO:tensorflow:Finished initializing TPU system.\n"
          ],
          "name": "stdout"
        },
        {
          "output_type": "stream",
          "text": [
            "INFO:tensorflow:Finished initializing TPU system.\n"
          ],
          "name": "stderr"
        },
        {
          "output_type": "stream",
          "text": [
            "INFO:tensorflow:Found TPU system:\n"
          ],
          "name": "stdout"
        },
        {
          "output_type": "stream",
          "text": [
            "INFO:tensorflow:Found TPU system:\n"
          ],
          "name": "stderr"
        },
        {
          "output_type": "stream",
          "text": [
            "INFO:tensorflow:*** Num TPU Cores: 8\n"
          ],
          "name": "stdout"
        },
        {
          "output_type": "stream",
          "text": [
            "INFO:tensorflow:*** Num TPU Cores: 8\n"
          ],
          "name": "stderr"
        },
        {
          "output_type": "stream",
          "text": [
            "INFO:tensorflow:*** Num TPU Workers: 1\n"
          ],
          "name": "stdout"
        },
        {
          "output_type": "stream",
          "text": [
            "INFO:tensorflow:*** Num TPU Workers: 1\n"
          ],
          "name": "stderr"
        },
        {
          "output_type": "stream",
          "text": [
            "INFO:tensorflow:*** Num TPU Cores Per Worker: 8\n"
          ],
          "name": "stdout"
        },
        {
          "output_type": "stream",
          "text": [
            "INFO:tensorflow:*** Num TPU Cores Per Worker: 8\n"
          ],
          "name": "stderr"
        },
        {
          "output_type": "stream",
          "text": [
            "INFO:tensorflow:*** Available Device: _DeviceAttributes(/job:localhost/replica:0/task:0/device:CPU:0, CPU, 0, 0)\n"
          ],
          "name": "stdout"
        },
        {
          "output_type": "stream",
          "text": [
            "INFO:tensorflow:*** Available Device: _DeviceAttributes(/job:localhost/replica:0/task:0/device:CPU:0, CPU, 0, 0)\n"
          ],
          "name": "stderr"
        },
        {
          "output_type": "stream",
          "text": [
            "INFO:tensorflow:*** Available Device: _DeviceAttributes(/job:localhost/replica:0/task:0/device:XLA_CPU:0, XLA_CPU, 0, 0)\n"
          ],
          "name": "stdout"
        },
        {
          "output_type": "stream",
          "text": [
            "INFO:tensorflow:*** Available Device: _DeviceAttributes(/job:localhost/replica:0/task:0/device:XLA_CPU:0, XLA_CPU, 0, 0)\n"
          ],
          "name": "stderr"
        },
        {
          "output_type": "stream",
          "text": [
            "INFO:tensorflow:*** Available Device: _DeviceAttributes(/job:worker/replica:0/task:0/device:CPU:0, CPU, 0, 0)\n"
          ],
          "name": "stdout"
        },
        {
          "output_type": "stream",
          "text": [
            "INFO:tensorflow:*** Available Device: _DeviceAttributes(/job:worker/replica:0/task:0/device:CPU:0, CPU, 0, 0)\n"
          ],
          "name": "stderr"
        },
        {
          "output_type": "stream",
          "text": [
            "INFO:tensorflow:*** Available Device: _DeviceAttributes(/job:worker/replica:0/task:0/device:TPU:0, TPU, 0, 0)\n"
          ],
          "name": "stdout"
        },
        {
          "output_type": "stream",
          "text": [
            "INFO:tensorflow:*** Available Device: _DeviceAttributes(/job:worker/replica:0/task:0/device:TPU:0, TPU, 0, 0)\n"
          ],
          "name": "stderr"
        },
        {
          "output_type": "stream",
          "text": [
            "INFO:tensorflow:*** Available Device: _DeviceAttributes(/job:worker/replica:0/task:0/device:TPU:1, TPU, 0, 0)\n"
          ],
          "name": "stdout"
        },
        {
          "output_type": "stream",
          "text": [
            "INFO:tensorflow:*** Available Device: _DeviceAttributes(/job:worker/replica:0/task:0/device:TPU:1, TPU, 0, 0)\n"
          ],
          "name": "stderr"
        },
        {
          "output_type": "stream",
          "text": [
            "INFO:tensorflow:*** Available Device: _DeviceAttributes(/job:worker/replica:0/task:0/device:TPU:2, TPU, 0, 0)\n"
          ],
          "name": "stdout"
        },
        {
          "output_type": "stream",
          "text": [
            "INFO:tensorflow:*** Available Device: _DeviceAttributes(/job:worker/replica:0/task:0/device:TPU:2, TPU, 0, 0)\n"
          ],
          "name": "stderr"
        },
        {
          "output_type": "stream",
          "text": [
            "INFO:tensorflow:*** Available Device: _DeviceAttributes(/job:worker/replica:0/task:0/device:TPU:3, TPU, 0, 0)\n"
          ],
          "name": "stdout"
        },
        {
          "output_type": "stream",
          "text": [
            "INFO:tensorflow:*** Available Device: _DeviceAttributes(/job:worker/replica:0/task:0/device:TPU:3, TPU, 0, 0)\n"
          ],
          "name": "stderr"
        },
        {
          "output_type": "stream",
          "text": [
            "INFO:tensorflow:*** Available Device: _DeviceAttributes(/job:worker/replica:0/task:0/device:TPU:4, TPU, 0, 0)\n"
          ],
          "name": "stdout"
        },
        {
          "output_type": "stream",
          "text": [
            "INFO:tensorflow:*** Available Device: _DeviceAttributes(/job:worker/replica:0/task:0/device:TPU:4, TPU, 0, 0)\n"
          ],
          "name": "stderr"
        },
        {
          "output_type": "stream",
          "text": [
            "INFO:tensorflow:*** Available Device: _DeviceAttributes(/job:worker/replica:0/task:0/device:TPU:5, TPU, 0, 0)\n"
          ],
          "name": "stdout"
        },
        {
          "output_type": "stream",
          "text": [
            "INFO:tensorflow:*** Available Device: _DeviceAttributes(/job:worker/replica:0/task:0/device:TPU:5, TPU, 0, 0)\n"
          ],
          "name": "stderr"
        },
        {
          "output_type": "stream",
          "text": [
            "INFO:tensorflow:*** Available Device: _DeviceAttributes(/job:worker/replica:0/task:0/device:TPU:6, TPU, 0, 0)\n"
          ],
          "name": "stdout"
        },
        {
          "output_type": "stream",
          "text": [
            "INFO:tensorflow:*** Available Device: _DeviceAttributes(/job:worker/replica:0/task:0/device:TPU:6, TPU, 0, 0)\n"
          ],
          "name": "stderr"
        },
        {
          "output_type": "stream",
          "text": [
            "INFO:tensorflow:*** Available Device: _DeviceAttributes(/job:worker/replica:0/task:0/device:TPU:7, TPU, 0, 0)\n"
          ],
          "name": "stdout"
        },
        {
          "output_type": "stream",
          "text": [
            "INFO:tensorflow:*** Available Device: _DeviceAttributes(/job:worker/replica:0/task:0/device:TPU:7, TPU, 0, 0)\n"
          ],
          "name": "stderr"
        },
        {
          "output_type": "stream",
          "text": [
            "INFO:tensorflow:*** Available Device: _DeviceAttributes(/job:worker/replica:0/task:0/device:TPU_SYSTEM:0, TPU_SYSTEM, 0, 0)\n"
          ],
          "name": "stdout"
        },
        {
          "output_type": "stream",
          "text": [
            "INFO:tensorflow:*** Available Device: _DeviceAttributes(/job:worker/replica:0/task:0/device:TPU_SYSTEM:0, TPU_SYSTEM, 0, 0)\n"
          ],
          "name": "stderr"
        },
        {
          "output_type": "stream",
          "text": [
            "INFO:tensorflow:*** Available Device: _DeviceAttributes(/job:worker/replica:0/task:0/device:XLA_CPU:0, XLA_CPU, 0, 0)\n"
          ],
          "name": "stdout"
        },
        {
          "output_type": "stream",
          "text": [
            "INFO:tensorflow:*** Available Device: _DeviceAttributes(/job:worker/replica:0/task:0/device:XLA_CPU:0, XLA_CPU, 0, 0)\n"
          ],
          "name": "stderr"
        },
        {
          "output_type": "stream",
          "text": [
            "TPU initialized\n",
            "REPLICAS: 8\n"
          ],
          "name": "stdout"
        }
      ]
    },
    {
      "cell_type": "code",
      "metadata": {
        "trusted": true,
        "id": "Pdg-qi1ljkxH",
        "colab_type": "code",
        "colab": {
          "base_uri": "https://localhost:8080/",
          "height": 204
        },
        "outputId": "37918676-3228-4977-90f3-813dd7d830b2"
      },
      "source": [
        "print(IMG_SIZES)\n",
        "GCS_PATH = [None]*FOLDS; GCS_PATH2 = [None]*FOLDS\n",
        "if not colab:\n",
        "    for i,k in enumerate(IMG_SIZES):\n",
        "        GCS_PATH[i] = KaggleDatasets().get_gcs_path('melanoma-%ix%i'%(k,k))\n",
        "        GCS_PATH2[i] = KaggleDatasets().get_gcs_path('isic2019-%ix%i'%(k,k))\n",
        "else:\n",
        "    # 512\n",
        "    #GCS_PATH = ['gs://kds-e2edf129ef071e4a88dc9eff1bc7ad658b1463dd97630b49ad2852bd'] * FOLDS\n",
        "    #GCS_PATH2 = ['gs://kds-9e6fecc9d41a3eae8ca289c0c98d58265f57d48d9d3e9e278f1c105b'] * FOLDS \n",
        "    #MALIGNANT_PATH = ['gs://kds-2bda56adf5787f0d0bd28a315f4efef5b4459feeaf630ba859fe7742'] * FOLDS \n",
        "\n",
        "    # 384\n",
        "    GCS_PATH = ['gs://kds-4794b97a7db9238be7b3a7e36e6d03f2de112b355765280d28e2b579'] * FOLDS\n",
        "    GCS_PATH2 = ['gs://kds-ba3a4a10d62d1e054c5eb06cc1cc58dca6e03bb18f5f06af448dec55'] * FOLDS \n",
        "    MALIGNANT_PATH = ['gs://kds-4dacd59e0327aff4eef56d9398ecced45e56a0afa6a43bf6bed7251b'] * FOLDS \n",
        "    PSEUDO_GCS_PATH = ['gs://kds-8b54a75f674a62c1bc59d52860e190a93df600ce3d667dabcd273fd0'] * FOLDS\n",
        "\n",
        "print(GCS_PATH[0])\n",
        "print(GCS_PATH2[0])\n",
        "print(MALIGNANT_PATH[0])\n",
        "print(PSEUDO_GCS_PATH[0])\n",
        "\n",
        "MALIGNANT_FILES = tf.io.gfile.glob(MALIGNANT_PATH[0] + '/train*.tfrec')\n",
        "MALIGNANT_EXTRA_FILES = MALIGNANT_FILES[15:30] + MALIGNANT_FILES[30:60][1::2]\n",
        "MALIGNANT_1_FILES = MALIGNANT_FILES[0:15]\n",
        "\n",
        "PSEUDO_LABEL_FILES = tf.io.gfile.glob(PSEUDO_GCS_PATH[0] + '/train*.tfrec')\n",
        "\n",
        "files_train = np.sort(np.array(tf.io.gfile.glob(GCS_PATH[0] + '/train*.tfrec')))\n",
        "files2_train = np.sort(np.array(tf.io.gfile.glob(GCS_PATH2[0] + '/train*.tfrec')))\n",
        "\n",
        "files_test  = np.sort(np.array(tf.io.gfile.glob(GCS_PATH[0] + '/test*.tfrec')))\n",
        "\n",
        "def count_data_items(filenames):\n",
        "    n = [int(re.compile(r\"-([0-9]*)\\.\").search(filename).group(1)) \n",
        "         for filename in filenames]\n",
        "    return np.sum(n)\n",
        "print(count_data_items(MALIGNANT_1_FILES))\n",
        "print(count_data_items(MALIGNANT_EXTRA_FILES))\n",
        "print(count_data_items(PSEUDO_LABEL_FILES))\n",
        "print(count_data_items(files_train))\n",
        "print(count_data_items(files2_train))\n",
        "print(count_data_items(files_test))"
      ],
      "execution_count": null,
      "outputs": [
        {
          "output_type": "stream",
          "text": [
            "[384, 384, 384, 384, 384, 384, 384, 384, 384, 384, 384, 384, 384, 384, 384]\n",
            "gs://kds-4794b97a7db9238be7b3a7e36e6d03f2de112b355765280d28e2b579\n",
            "gs://kds-ba3a4a10d62d1e054c5eb06cc1cc58dca6e03bb18f5f06af448dec55\n",
            "gs://kds-4dacd59e0327aff4eef56d9398ecced45e56a0afa6a43bf6bed7251b\n",
            "gs://kds-8b54a75f674a62c1bc59d52860e190a93df600ce3d667dabcd273fd0\n",
            "581\n",
            "1765\n",
            "1823\n",
            "32692\n",
            "25272\n",
            "10982\n"
          ],
          "name": "stdout"
        }
      ]
    },
    {
      "cell_type": "code",
      "metadata": {
        "trusted": true,
        "id": "-1PRToAxjkxO",
        "colab_type": "code",
        "colab": {}
      },
      "source": [
        "ROT_ = 180.0\n",
        "SHR_ = 0    #2\n",
        "HZOOM_ = 8.0\n",
        "WZOOM_ = 8.0\n",
        "HSHIFT_ = 8.0\n",
        "WSHIFT_ = 8.0\n",
        "\n",
        "def get_mat(rotation, shear, height_zoom, width_zoom, height_shift, width_shift):\n",
        "    rotation = math.pi * rotation / 180.\n",
        "    shear    = math.pi * shear    / 180.\n",
        "    def get_3x3_mat(lst):\n",
        "        return tf.reshape(tf.concat([lst],axis=0), [3,3])\n",
        "    c1   = tf.math.cos(rotation)\n",
        "    s1   = tf.math.sin(rotation)\n",
        "    one  = tf.constant([1],dtype='float32')\n",
        "    zero = tf.constant([0],dtype='float32')\n",
        "    rotation_matrix = get_3x3_mat([c1,   s1,   zero, \n",
        "                                   -s1,  c1,   zero, \n",
        "                                   zero, zero, one])    \n",
        "    c2 = tf.math.cos(shear)\n",
        "    s2 = tf.math.sin(shear)    \n",
        "    shear_matrix = get_3x3_mat([one,  s2,   zero, \n",
        "                                zero, c2,   zero, \n",
        "                                zero, zero, one])        \n",
        "    zoom_matrix = get_3x3_mat([one/height_zoom, zero,           zero, \n",
        "                               zero,            one/width_zoom, zero, \n",
        "                               zero,            zero,           one])    \n",
        "    shift_matrix = get_3x3_mat([one,  zero, height_shift, \n",
        "                                zero, one,  width_shift, \n",
        "                                zero, zero, one])\n",
        "    return K.dot(K.dot(rotation_matrix, shear_matrix), \n",
        "                 K.dot(zoom_matrix,     shift_matrix))\n",
        "\n",
        "\n",
        "def transform(image, DIM=256):    \n",
        "    XDIM = DIM%2\n",
        "    rot = ROT_ * tf.random.normal([1], dtype='float32')\n",
        "    shr = SHR_ * tf.random.normal([1], dtype='float32') \n",
        "    h_zoom = 1.0 + tf.random.normal([1], dtype='float32') / HZOOM_\n",
        "    w_zoom = 1.0 + tf.random.normal([1], dtype='float32') / WZOOM_\n",
        "    h_shift = HSHIFT_ * tf.random.normal([1], dtype='float32') \n",
        "    w_shift = WSHIFT_ * tf.random.normal([1], dtype='float32') \n",
        "    m = get_mat(rot,shr,h_zoom,w_zoom,h_shift,w_shift) \n",
        "    x   = tf.repeat(tf.range(DIM//2, -DIM//2,-1), DIM)\n",
        "    y   = tf.tile(tf.range(-DIM//2, DIM//2), [DIM])\n",
        "    z   = tf.ones([DIM*DIM], dtype='int32')\n",
        "    idx = tf.stack( [x,y,z] )\n",
        "    idx2 = K.dot(m, tf.cast(idx, dtype='float32'))\n",
        "    idx2 = K.cast(idx2, dtype='int32')\n",
        "    idx2 = K.clip(idx2, -DIM//2+XDIM+1, DIM//2)        \n",
        "    idx3 = tf.stack([DIM//2-idx2[0,], DIM//2-1+idx2[1,]])\n",
        "    d    = tf.gather_nd(image, tf.transpose(idx3))  \n",
        "    return tf.reshape(d,[DIM, DIM,3])\n",
        "\n",
        "def random_blockout(img, img_size, sl=0.2, sh=0.5):\n",
        "    p=random.random()\n",
        "    if p>=0.25:\n",
        "        h, w, c = img_size, img_size, 3\n",
        "        origin_area = tf.cast(h*w, tf.float32)\n",
        "\n",
        "        e_size_l = tf.cast(tf.round(tf.sqrt(origin_area * sl * sl)), tf.int32)\n",
        "        e_size_h = tf.cast(tf.round(tf.sqrt(origin_area * sh * sh)), tf.int32)\n",
        "\n",
        "        e_height_h = tf.minimum(e_size_h, h)\n",
        "        e_width_h = tf.minimum(e_size_h, w)\n",
        "\n",
        "        erase_height = tf.random.uniform(shape=[], minval=e_size_l, maxval=e_height_h, dtype=tf.int32)\n",
        "        erase_width = tf.random.uniform(shape=[], minval=e_size_l, maxval=e_width_h, dtype=tf.int32)\n",
        "\n",
        "        erase_area = tf.zeros(shape=[erase_height, erase_width, c])\n",
        "        erase_area = tf.cast(erase_area, tf.uint8)\n",
        "\n",
        "        pad_h = h - erase_height\n",
        "        pad_top = tf.random.uniform(shape=[], minval=0, maxval=pad_h, dtype=tf.int32)\n",
        "        pad_bottom = pad_h - pad_top\n",
        "\n",
        "        pad_w = w - erase_width\n",
        "        pad_left = tf.random.uniform(shape=[], minval=0, maxval=pad_w, dtype=tf.int32)\n",
        "        pad_right = pad_w - pad_left\n",
        "\n",
        "        erase_mask = tf.pad([erase_area], [[0,0],[pad_top, pad_bottom], [pad_left, pad_right], [0,0]], constant_values=1)\n",
        "        erase_mask = tf.squeeze(erase_mask, axis=0)\n",
        "        erased_img = tf.multiply(tf.cast(img,tf.float32), tf.cast(erase_mask, tf.float32))\n",
        "\n",
        "        return tf.cast(erased_img, img.dtype)\n",
        "    else:\n",
        "        return tf.cast(img, img.dtype)\n",
        "\n",
        "def dropout(image, DIM=256, PROBABILITY = 0.25, CT = 32, SZ = 0.125):\n",
        "    # DO DROPOUT WITH PROBABILITY DEFINED ABOVE\n",
        "    P = tf.cast( tf.random.uniform([],0,1) < PROBABILITY, tf.int32)\n",
        "    if (P == 0)|(CT == 0)|(SZ == 0): return image\n",
        "    for k in range( CT ):\n",
        "        # CHOOSE RANDOM LOCATION\n",
        "        x = tf.cast( tf.random.uniform([],0,DIM),tf.int32)\n",
        "        y = tf.cast( tf.random.uniform([],0,DIM),tf.int32)\n",
        "        # COMPUTE SQUARE \n",
        "        WIDTH = tf.cast( SZ*DIM,tf.int32) * P\n",
        "        ya = tf.math.maximum(0,y-WIDTH//2)\n",
        "        yb = tf.math.minimum(DIM,y+WIDTH//2)\n",
        "        xa = tf.math.maximum(0,x-WIDTH//2)\n",
        "        xb = tf.math.minimum(DIM,x+WIDTH//2)\n",
        "        # DROPOUT IMAGE\n",
        "        one = image[ya:yb,0:xa,:]\n",
        "        two = tf.zeros([yb-ya,xb-xa,3]) \n",
        "        three = image[ya:yb,xb:DIM,:]\n",
        "        middle = tf.concat([one,two,three],axis=1)\n",
        "        image = tf.concat([image[0:ya,:,:],middle,image[yb:DIM,:,:]],axis=0)\n",
        "    image = tf.reshape(image,[DIM,DIM,3])\n",
        "    return image"
      ],
      "execution_count": null,
      "outputs": []
    },
    {
      "cell_type": "code",
      "metadata": {
        "trusted": true,
        "id": "OmT2w4IpjkxS",
        "colab_type": "code",
        "colab": {}
      },
      "source": [
        "def read_labeled_tfrecord(example):\n",
        "    tfrec_format = {\n",
        "        'image'                        : tf.io.FixedLenFeature([], tf.string),\n",
        "        'image_name'                   : tf.io.FixedLenFeature([], tf.string),\n",
        "        'patient_id'                   : tf.io.FixedLenFeature([], tf.int64),\n",
        "        'sex'                          : tf.io.FixedLenFeature([], tf.int64),\n",
        "        'age_approx'                   : tf.io.FixedLenFeature([], tf.int64),\n",
        "        'anatom_site_general_challenge': tf.io.FixedLenFeature([], tf.int64),\n",
        "        #'diagnosis'                    : tf.io.FixedLenFeature([], tf.int64),\n",
        "        'target'                       : tf.io.FixedLenFeature([], tf.int64)\n",
        "    }           \n",
        "    example = tf.io.parse_single_example(example, tfrec_format)\n",
        "    return example['image'], example['target']\n",
        "\n",
        "def read_unlabeled_tfrecord(example, return_image_name):\n",
        "    tfrec_format = {\n",
        "        'image'                        : tf.io.FixedLenFeature([], tf.string),\n",
        "        'image_name'                   : tf.io.FixedLenFeature([], tf.string),\n",
        "    }\n",
        "    example = tf.io.parse_single_example(example, tfrec_format)\n",
        "    return example['image'], example['image_name'] if return_image_name else 0\n",
        "\n",
        "def prepare_image(img, train=True, augment=True, dim=256):    \n",
        "    img = tf.image.decode_jpeg(img, channels=3)\n",
        "    img = tf.cast(img, tf.float32) / 255.0\n",
        "\n",
        "    #img = tf.image.rgb_to_yuv(img)\n",
        "    \n",
        "    if augment:\n",
        "        img = transform(img,DIM=dim)\n",
        "\n",
        "        #img = tf.image.rgb_to_hsv(img)\n",
        "\n",
        "        img = tf.image.random_flip_left_right(img)\n",
        "        img = tf.image.rot90(img, k = np.random.randint(4))\n",
        "        img = tf.image.random_flip_up_down(img)\n",
        "        #img = tf.image.random_hue(img, 0.01)\n",
        "        img = tf.image.random_saturation(img, 0.7, 1.3)\n",
        "        img = tf.image.random_contrast(img, 0.8, 1.2)\n",
        "        img = tf.image.random_brightness(img, 0.1)\n",
        "\n",
        "        if train:\n",
        "            #img = dropout(img, DIM=dim, PROBABILITY=0.80, CT=16, SZ = 0.1)\n",
        "            #img = random_blockout(img=img, img_size=dim)\n",
        "            pass\n",
        "        \n",
        "    img = tf.reshape(img, [dim,dim, 3])        \n",
        "    return img"
      ],
      "execution_count": null,
      "outputs": []
    },
    {
      "cell_type": "code",
      "metadata": {
        "trusted": true,
        "id": "k482DndKjkxh",
        "colab_type": "code",
        "colab": {}
      },
      "source": [
        "def get_dataset(files, train = True, augment = False, shuffle = False, repeat = False, \n",
        "                labeled=True, return_image_names=True, batch_size=16, dim=256):\n",
        "    \n",
        "    ds = tf.data.TFRecordDataset(files, num_parallel_reads=AUTO)\n",
        "    if not train:\n",
        "        ds = ds.cache()\n",
        "    \n",
        "    if repeat:\n",
        "        ds = ds.repeat()\n",
        "    \n",
        "    if shuffle: \n",
        "        ds = ds.shuffle(1024*8)\n",
        "        opt = tf.data.Options()\n",
        "        opt.experimental_deterministic = False\n",
        "        ds = ds.with_options(opt)\n",
        "        \n",
        "    if labeled: \n",
        "        ds = ds.map(read_labeled_tfrecord, num_parallel_calls=AUTO)\n",
        "    else:\n",
        "        ds = ds.map(lambda example: read_unlabeled_tfrecord(example, return_image_names), \n",
        "                    num_parallel_calls=AUTO)      \n",
        "    \n",
        "    ds = ds.map(lambda img, imgname_or_label: (prepare_image(img, train=train, augment=augment, dim=dim), \n",
        "                                               imgname_or_label), \n",
        "                num_parallel_calls=AUTO)\n",
        "    \n",
        "    ds = ds.batch(batch_size * REPLICAS)\n",
        "    ds = ds.prefetch(AUTO)\n",
        "    return ds"
      ],
      "execution_count": null,
      "outputs": []
    },
    {
      "cell_type": "code",
      "metadata": {
        "id": "IBhWvtcZu-np",
        "colab_type": "code",
        "colab": {}
      },
      "source": [
        "def binary_focal_loss(gamma=2., alpha=.25):\n",
        "    def binary_focal_loss_fixed(y_true, y_pred):\n",
        "        pt_1 = tf.where(tf.equal(y_true, 1), y_pred, tf.ones_like(y_pred))\n",
        "        pt_0 = tf.where(tf.equal(y_true, 0), y_pred, tf.zeros_like(y_pred))\n",
        "        epsilon = K.epsilon()\n",
        "        pt_1 = K.clip(pt_1, epsilon, 1. - epsilon)\n",
        "        pt_0 = K.clip(pt_0, epsilon, 1. - epsilon)\n",
        "        return -K.sum(alpha * K.pow(1. - pt_1, gamma) * K.log(pt_1)) \\\n",
        "               -K.sum((1 - alpha) * K.pow(pt_0, gamma) * K.log(1. - pt_0))\n",
        "    return binary_focal_loss_fixed\n",
        "\n",
        "def get_lr_callback(batch_size):\n",
        "    lr_start   = 0.000005\n",
        "    lr_max     = 0.00000125 * REPLICAS * batch_size\n",
        "    lr_min     = 0.000001\n",
        "    lr_ramp_ep = 5\n",
        "    lr_sus_ep  = 0\n",
        "    lr_decay   = 0.8\n",
        "    \n",
        "    def lrfn(epoch):\n",
        "        if epoch < lr_ramp_ep:\n",
        "            lr = (lr_max - lr_start) / lr_ramp_ep * epoch + lr_start   \n",
        "        elif epoch < lr_ramp_ep + lr_sus_ep:\n",
        "            lr = lr_max    \n",
        "        else:\n",
        "            lr = (lr_max - lr_min) * lr_decay**(epoch - lr_ramp_ep - lr_sus_ep) + lr_min    \n",
        "        return lr\n",
        "\n",
        "    lr_callback = tf.keras.callbacks.LearningRateScheduler(lrfn, verbose=False)\n",
        "    return lr_callback"
      ],
      "execution_count": null,
      "outputs": []
    },
    {
      "cell_type": "code",
      "metadata": {
        "trusted": true,
        "id": "7pF1I3Bejkxk",
        "colab_type": "code",
        "colab": {}
      },
      "source": [
        "EFNS = [efn.EfficientNetB0, efn.EfficientNetB1, efn.EfficientNetB2, efn.EfficientNetB3, \n",
        "        efn.EfficientNetB4, efn.EfficientNetB5, efn.EfficientNetB6, efn.EfficientNetB7]\n",
        "\n",
        "def build_model(dim=128, ef=0):\n",
        "    inp = tf.keras.layers.Input(shape=(dim,dim,3))\n",
        "\n",
        "    base1 = EFNS[ef](input_shape=(dim,dim,3),weights='noisy-student',include_top=False, pooling='avg')\n",
        "    #base1 = tf.keras.applications.Xception(include_top=False, input_shape=(dim,dim,3),weights='imagenet', pooling='avg')\n",
        "    \n",
        "    x = base1(inp)\n",
        "    x = tf.keras.layers.Dense(1, activation='sigmoid')(x)\n",
        "    model = tf.keras.Model(inputs=inp,outputs=x)\n",
        "\n",
        "    #opt = tf.keras.optimizers.SGD(learning_rate=1e-6)\n",
        "    #opt = tf.keras.optimizers.Adam(learning_rate=3e-4)\n",
        "    opt = tf.keras.optimizers.Nadam(learning_rate=3e-4)\n",
        "    #opt = tfa.optimizers.RectifiedAdam(learning_rate=3e-4, total_steps=2980,warmup_proportion=0.1)\n",
        "    #opt = tfa.optimizers.Lookahead(opt)\n",
        "    #loss = tf.keras.losses.BinaryCrossentropy(label_smoothing=0.05) \n",
        "    loss = [binary_focal_loss(gamma = 2.0, alpha = 0.80)]\n",
        "    model.compile(optimizer=opt,loss=loss,metrics=['AUC'])\n",
        "    return model"
      ],
      "execution_count": null,
      "outputs": []
    },
    {
      "cell_type": "code",
      "metadata": {
        "id": "k1ekNR-LNNhn",
        "colab_type": "code",
        "colab": {}
      },
      "source": [
        "class CustomSaver(tf.keras.callbacks.Callback):\n",
        "    def __init__(self, fold):\n",
        "        self.fold = fold\n",
        "        self.list_ = [0]*5\n",
        "    def on_epoch_end(self, epoch, logs={}):\n",
        "        if epoch >= 10:\n",
        "            self.model.save_weights(os.path.join(PATH, 'fold-%i-epoch-%i.h5'%(self.fold,epoch)))"
      ],
      "execution_count": null,
      "outputs": []
    },
    {
      "cell_type": "code",
      "metadata": {
        "id": "0yT_tgX7WJMe",
        "colab_type": "code",
        "colab": {
          "base_uri": "https://localhost:8080/",
          "height": 1000
        },
        "outputId": "9277e19e-afc7-47a1-cf4a-7429af60a094"
      },
      "source": [
        "#check 4 filenames, \n",
        "#set learning rate\n",
        "#val_loss or val_auc\n",
        "\n",
        "SKIP_ALL = 5            #0 \n",
        "SKIP_AFTER = 15         #15\n",
        "SKIP_TRAIN = 0\n",
        "MULTIPLE_CHECKPOINTS = False\n",
        "SKIP_OOF_PREDICTION = False\n",
        "NO_VALIDATION = False\n",
        "ADD_PSEUDO = False\n",
        "RETRAIN =  False        #0\n",
        "REDUCE_LR_ON_PLAT = 0   #0\n",
        "EPOCHS = [20] * FOLDS   #25\n",
        "TTA = 20                #64\n",
        "LR_CALLBACK = 1         #1 \n",
        "BREAK = 1 \n",
        "\n",
        "skf = KFold(n_splits=FOLDS,shuffle=True,random_state=SEED)\n",
        "oof_pred = []; oof_tar = []; oof_val = []; oof_names = []; oof_folds = [] \n",
        "oof_tta = []\n",
        "\n",
        "for fold,(idxT,idxV) in enumerate(skf.split(np.arange(15))):\n",
        "\n",
        "    if fold<SKIP_ALL:\n",
        "        continue\n",
        "    if fold>=SKIP_AFTER:\n",
        "        continue\n",
        "\n",
        "    if DEVICE=='TPU':\n",
        "        if tpu: tf.tpu.experimental.initialize_tpu_system(tpu)\n",
        "    print('#'*25)\n",
        "    print('#### FOLD',fold+1)\n",
        "    print('#### Image Size %i with EfficientNet B%i and batch_size %i'%\n",
        "          (IMG_SIZES[fold],EFF_NETS[fold],BATCH_SIZES[fold]*REPLICAS))\n",
        "    if NO_VALIDATION:\n",
        "        files_train = tf.io.gfile.glob([GCS_PATH[fold] + '/train%.2i*.tfrec'%x for x in range(15)])\n",
        "    else:\n",
        "        files_train = tf.io.gfile.glob([GCS_PATH[fold] + '/train%.2i*.tfrec'%x for x in idxT])\n",
        "    print(f'#### Using {count_data_items(files_train)} 2020 images')\n",
        "    if INC2019[fold]:\n",
        "        files_train += tf.io.gfile.glob([GCS_PATH2[fold] + '/train%.2i*.tfrec'%x for x in idxT*2+1])\n",
        "        print('#### Using 2019 external data')\n",
        "    if INC2018[fold]:\n",
        "        files_train += tf.io.gfile.glob([GCS_PATH2[fold] + '/train%.2i*.tfrec'%x for x in idxT*2])\n",
        "        print('#### Using 2018+2017 external data')\n",
        "    for ii in range(MALIGNANT_EXTRA[fold]):\n",
        "        files_train += MALIGNANT_EXTRA_FILES\n",
        "        print(f'#### Using {count_data_items(MALIGNANT_EXTRA_FILES)} extra Malignant Images {ii+1} times')\n",
        "    for jj in range(MALIGNANT_1[fold]):\n",
        "        MALIGNANT_1_FILES_TRAIN = [MALIGNANT_1_FILES[x] for x in idxT]\n",
        "        files_train += MALIGNANT_1_FILES_TRAIN\n",
        "        print(f'#### Using {count_data_items(MALIGNANT_1_FILES_TRAIN)} Malignant 2020 Images {jj+1} times')\n",
        "    if ADD_PSEUDO:\n",
        "        files_train += PSEUDO_LABEL_FILES\n",
        "        print(f'#### Using {count_data_items(PSEUDO_LABEL_FILES)} Pseudo Labeled Images 1 times')\n",
        "       \n",
        "    np.random.shuffle(files_train)\n",
        "    print(f'####Total train images = {count_data_items(files_train)}')\n",
        "\n",
        "    files_valid = tf.io.gfile.glob([GCS_PATH[fold] + '/train%.2i*.tfrec'%x for x in idxV])\n",
        "    print(f'####Total validation images = {count_data_items(files_valid)}')\n",
        "    files_test = np.sort(np.array(tf.io.gfile.glob(GCS_PATH[fold] + '/test*.tfrec')))\n",
        "\n",
        "    print('#'*25)\n",
        "    K.clear_session()\n",
        "    with strategy.scope():\n",
        "        model = build_model(dim=IMG_SIZES[fold],ef=EFF_NETS[fold])\n",
        "        \n",
        "    if RETRAIN:\n",
        "            print('Loading previous best model...')\n",
        "            model.load_weights(os.path.join(PATH, 'fold-%i.h5'%fold))\n",
        "    \n",
        "    if fold<SKIP_TRAIN:\n",
        "        print('#### SKIPPING FOLD',fold+1)\n",
        "\n",
        "    else:\n",
        "        print('Training...')\n",
        "        if MULTIPLE_CHECKPOINTS:\n",
        "            sv = CustomSaver(fold)\n",
        "        else:\n",
        "            sv = tf.keras.callbacks.ModelCheckpoint(os.path.join(PATH, 'fold-%i.h5'%fold), \n",
        "                                                    monitor='val_auc', \n",
        "                                                    save_best_only=True,\n",
        "                                                    save_weights_only=True, \n",
        "                                                    mode='max')\n",
        "        es_cb = tf.keras.callbacks.EarlyStopping(monitor='val_auc', \n",
        "                                                 patience=20, mode='max',restore_best_weights=False)\n",
        "        \n",
        "        if not REDUCE_LR_ON_PLAT:\n",
        "            lr_cb = get_lr_callback(BATCH_SIZES[fold])\n",
        "        else:\n",
        "            print('Using reduce_lr_on_plateau')\n",
        "            lr_cb = tf.keras.callbacks.ReduceLROnPlateau(monitor='val_auc', factor=0.6,\n",
        "                                                         patience=2, mode='max')\n",
        "\n",
        "        if LR_CALLBACK:\n",
        "            history = model.fit(get_dataset(files_train,train=True,augment=True,shuffle=True,repeat=True,\n",
        "                                            dim=IMG_SIZES[fold], batch_size = BATCH_SIZES[fold]), \n",
        "                                epochs=EPOCHS[fold], \n",
        "                                callbacks = [sv, lr_cb, es_cb],\n",
        "                                steps_per_epoch=count_data_items(files_train)/BATCH_SIZES[fold]//REPLICAS,\n",
        "                                validation_data=get_dataset(files_valid,train=False,augment=False,shuffle=False,\n",
        "                                                            repeat=False, dim=IMG_SIZES[fold]),\n",
        "                                verbose=VERBOSE\n",
        "                                )\n",
        "        else:\n",
        "            print('No LR callback')\n",
        "            history = model.fit(get_dataset(files_train,train=True,augment=True,shuffle=True,repeat=True,\n",
        "                                            dim=IMG_SIZES[fold], batch_size = BATCH_SIZES[fold]), \n",
        "                                epochs=EPOCHS[fold], \n",
        "                                callbacks = [sv, es_cb],\n",
        "                                steps_per_epoch=count_data_items(files_train)/BATCH_SIZES[fold]//REPLICAS,\n",
        "                                validation_data=get_dataset(files_valid,train=False,augment=False,shuffle=False,\n",
        "                                                            repeat=False, dim=IMG_SIZES[fold]),\n",
        "                                verbose=VERBOSE\n",
        "                                )           \n",
        "    if SKIP_OOF_PREDICTION:\n",
        "        continue\n",
        "    print('Loading best model...')\n",
        "    model.load_weights(os.path.join(PATH, 'fold-%i.h5'%fold))\n",
        "    \n",
        "    print('Predicting OOF with TTA...')\n",
        "    ds_valid = get_dataset(files_valid,train=False,labeled=False,return_image_names=False,augment=True,\n",
        "            repeat=True,shuffle=False,dim=IMG_SIZES[fold],batch_size=BATCH_SIZES[fold])\n",
        "    ct_valid = count_data_items(files_valid); STEPS = TTA * ct_valid/BATCH_SIZES[fold]/REPLICAS\n",
        "    pred = model.predict(ds_valid,steps=STEPS,verbose=VERBOSE)[:TTA*ct_valid,] \n",
        "    oof_pred.append(np.mean(pred.reshape((ct_valid,TTA),order='F'),axis=1) )                 \n",
        "    #oof_pred.append(model.predict(get_dataset(files_valid,dim=IMG_SIZES[fold]),verbose=1))\n",
        "\n",
        "    ds_valid = get_dataset(files_valid, augment=False, repeat=False, dim=IMG_SIZES[fold],\n",
        "                           labeled=True, return_image_names=True)\n",
        "    oof_tar.append( np.array([target.numpy() for img, target in iter(ds_valid.unbatch())]) )\n",
        "    oof_folds.append(np.ones_like(oof_tar[-1],dtype='int8')*fold)\n",
        "    ds = get_dataset(files_valid, augment=False, repeat=False, dim=IMG_SIZES[fold],\n",
        "                     labeled=False, return_image_names=True)\n",
        "    oof_names.append(np.array([img_name.numpy().decode(\"utf-8\") for img, img_name in iter(ds.unbatch())]))\n",
        "    \n",
        "    auc = roc_auc_score(oof_tar[-1],oof_pred[-1])\n",
        "    oof_tta.append(auc)\n",
        "    try:\n",
        "        oof_val.append(np.max( history.history['val_auc'] ))\n",
        "    except:\n",
        "        oof_val.append(-1)\n",
        "    print('#### FOLD %i OOF AUC without TTA = %.5f, with TTA = %.5f'%(fold+1,oof_val[-1],auc))\n",
        "    if BREAK:\n",
        "        break\n",
        "\n",
        "oof = np.concatenate(oof_pred) \n",
        "true = np.concatenate(oof_tar)\n",
        "names = np.concatenate(oof_names)\n",
        "folds = np.concatenate(oof_folds)\n",
        "auc = roc_auc_score(true,oof)\n",
        "print('Overall OOF AUC with TTA = %.5f'%auc)\n",
        "df_oof = pd.DataFrame(dict(image_name = names, target=true, pred = oof, fold=folds))\n",
        "df_oof.to_csv(os.path.join(PATH, f'oof.csv'),index=False)  \n",
        "print(oof_tta)"
      ],
      "execution_count": null,
      "outputs": [
        {
          "output_type": "stream",
          "text": [
            "WARNING:tensorflow:TPU system grpc://10.38.118.138:8470 has already been initialized. Reinitializing the TPU can cause previously created variables on TPU to be lost.\n"
          ],
          "name": "stdout"
        },
        {
          "output_type": "stream",
          "text": [
            "WARNING:tensorflow:TPU system grpc://10.38.118.138:8470 has already been initialized. Reinitializing the TPU can cause previously created variables on TPU to be lost.\n"
          ],
          "name": "stderr"
        },
        {
          "output_type": "stream",
          "text": [
            "INFO:tensorflow:Initializing the TPU system: grpc://10.38.118.138:8470\n"
          ],
          "name": "stdout"
        },
        {
          "output_type": "stream",
          "text": [
            "INFO:tensorflow:Initializing the TPU system: grpc://10.38.118.138:8470\n"
          ],
          "name": "stderr"
        },
        {
          "output_type": "stream",
          "text": [
            "INFO:tensorflow:Clearing out eager caches\n"
          ],
          "name": "stdout"
        },
        {
          "output_type": "stream",
          "text": [
            "INFO:tensorflow:Clearing out eager caches\n"
          ],
          "name": "stderr"
        },
        {
          "output_type": "stream",
          "text": [
            "INFO:tensorflow:Finished initializing TPU system.\n"
          ],
          "name": "stdout"
        },
        {
          "output_type": "stream",
          "text": [
            "INFO:tensorflow:Finished initializing TPU system.\n"
          ],
          "name": "stderr"
        },
        {
          "output_type": "stream",
          "text": [
            "#########################\n",
            "#### FOLD 6\n",
            "#### Image Size 384 with EfficientNet B5 and batch_size 256\n",
            "#### Using 30494 2020 images\n",
            "#### Using 2019 external data\n",
            "#### Using 2018+2017 external data\n",
            "#### Using 1765 extra Malignant Images 1 times\n",
            "####Total train images = 55845\n",
            "####Total validation images = 2198\n",
            "#########################\n",
            "Training...\n",
            "Epoch 1/20\n",
            "218/218 [==============================] - 222s 1s/step - auc: 0.7477 - loss: 1.3352 - val_auc: 0.7574 - val_loss: 0.2345 - lr: 5.0000e-06\n",
            "Epoch 2/20\n",
            "218/218 [==============================] - 197s 905ms/step - auc: 0.8882 - loss: 0.8858 - val_auc: 0.8503 - val_loss: 0.1723 - lr: 6.8000e-05\n",
            "Epoch 3/20\n",
            "218/218 [==============================] - 198s 907ms/step - auc: 0.9170 - loss: 0.7731 - val_auc: 0.8752 - val_loss: 0.1708 - lr: 1.3100e-04\n",
            "Epoch 4/20\n",
            "218/218 [==============================] - 199s 912ms/step - auc: 0.9346 - loss: 0.6968 - val_auc: 0.8809 - val_loss: 0.1948 - lr: 1.9400e-04\n",
            "Epoch 5/20\n",
            "218/218 [==============================] - 199s 911ms/step - auc: 0.9437 - loss: 0.6503 - val_auc: 0.8813 - val_loss: 0.1860 - lr: 2.5700e-04\n",
            "Epoch 6/20\n",
            "218/218 [==============================] - 193s 886ms/step - auc: 0.9508 - loss: 0.6117 - val_auc: 0.8798 - val_loss: 0.1951 - lr: 3.2000e-04\n",
            "Epoch 7/20\n",
            "218/218 [==============================] - 193s 885ms/step - auc: 0.9616 - loss: 0.5428 - val_auc: 0.8665 - val_loss: 0.2395 - lr: 2.5620e-04\n",
            "Epoch 8/20\n",
            "218/218 [==============================] - 193s 886ms/step - auc: 0.9693 - loss: 0.4874 - val_auc: 0.8747 - val_loss: 0.2226 - lr: 2.0516e-04\n",
            "Epoch 9/20\n",
            "218/218 [==============================] - 198s 909ms/step - auc: 0.9743 - loss: 0.4477 - val_auc: 0.8956 - val_loss: 0.2063 - lr: 1.6433e-04\n",
            "Epoch 10/20\n",
            "218/218 [==============================] - 193s 886ms/step - auc: 0.9792 - loss: 0.4023 - val_auc: 0.8951 - val_loss: 0.2135 - lr: 1.3166e-04\n",
            "Epoch 11/20\n",
            "218/218 [==============================] - 198s 910ms/step - auc: 0.9839 - loss: 0.3557 - val_auc: 0.9043 - val_loss: 0.2185 - lr: 1.0553e-04\n",
            "Epoch 12/20\n",
            "218/218 [==============================] - 193s 887ms/step - auc: 0.9865 - loss: 0.3257 - val_auc: 0.8952 - val_loss: 0.2423 - lr: 8.4624e-05\n",
            "Epoch 13/20\n",
            "218/218 [==============================] - 193s 884ms/step - auc: 0.9884 - loss: 0.3028 - val_auc: 0.8977 - val_loss: 0.2213 - lr: 6.7899e-05\n",
            "Epoch 14/20\n",
            "218/218 [==============================] - 194s 888ms/step - auc: 0.9902 - loss: 0.2759 - val_auc: 0.9033 - val_loss: 0.2451 - lr: 5.4519e-05\n",
            "Epoch 15/20\n",
            "218/218 [==============================] - 193s 887ms/step - auc: 0.9923 - loss: 0.2468 - val_auc: 0.9007 - val_loss: 0.2618 - lr: 4.3815e-05\n",
            "Epoch 16/20\n",
            "218/218 [==============================] - 198s 909ms/step - auc: 0.9929 - loss: 0.2365 - val_auc: 0.9051 - val_loss: 0.2680 - lr: 3.5252e-05\n",
            "Epoch 17/20\n",
            "218/218 [==============================] - 197s 905ms/step - auc: 0.9935 - loss: 0.2260 - val_auc: 0.9106 - val_loss: 0.2553 - lr: 2.8402e-05\n",
            "Epoch 18/20\n",
            "218/218 [==============================] - 193s 885ms/step - auc: 0.9939 - loss: 0.2185 - val_auc: 0.9075 - val_loss: 0.2623 - lr: 2.2922e-05\n",
            "Epoch 19/20\n",
            "218/218 [==============================] - 193s 887ms/step - auc: 0.9949 - loss: 0.1997 - val_auc: 0.9082 - val_loss: 0.2661 - lr: 1.8537e-05\n",
            "Epoch 20/20\n",
            "218/218 [==============================] - 193s 885ms/step - auc: 0.9947 - loss: 0.2046 - val_auc: 0.9081 - val_loss: 0.2695 - lr: 1.5030e-05\n",
            "Loading best model...\n",
            "Predicting OOF with TTA...\n",
            "172/171 [==============================] - 36s 211ms/step\n",
            "#### FOLD 6 OOF AUC without TTA = 0.91057, with TTA = 0.91877\n",
            "Overall OOF AUC with TTA = 0.91877\n",
            "[0.9187658103822994]\n"
          ],
          "name": "stdout"
        }
      ]
    },
    {
      "cell_type": "markdown",
      "metadata": {
        "id": "2gGpgeKHeh8l",
        "colab_type": "text"
      },
      "source": [
        "## TEST DATA"
      ]
    },
    {
      "cell_type": "code",
      "metadata": {
        "id": "T77ZIxo2yS-k",
        "colab_type": "code",
        "colab": {
          "base_uri": "https://localhost:8080/",
          "height": 1000
        },
        "outputId": "14144391-65f5-4df4-e249-cf5c803f194f"
      },
      "source": [
        "%%time\n",
        "#check 2 file names\n",
        "TTA = 20\n",
        "\n",
        "preds = np.zeros((count_data_items(files_test),FOLDS))\n",
        "for fold in range(FOLDS):\n",
        "    if DEVICE=='TPU':\n",
        "        if tpu: tf.tpu.experimental.initialize_tpu_system(tpu)\n",
        "    print('#'*25); print('#### FOLD',fold+1)\n",
        "    print('#### Image Size %i with EfficientNet B%i and batch_size %i'%\n",
        "          (IMG_SIZES[fold],EFF_NETS[fold],BATCH_SIZES[fold]*REPLICAS))\n",
        "    files_test = np.sort(np.array(tf.io.gfile.glob(GCS_PATH[fold] + '/test*.tfrec')))\n",
        "    \n",
        "    K.clear_session()\n",
        "    with strategy.scope():\n",
        "        model = build_model(dim=IMG_SIZES[fold],ef=EFF_NETS[fold])\n",
        "        \n",
        "    print('Loading best model...')\n",
        "    model.load_weights(os.path.join(PATH, 'retrain_fold-%i.h5'%fold))\n",
        "    \n",
        "    print('Predicting Test with TTA...')\n",
        "    ds_test = get_dataset(files_test,train=False,labeled=False,return_image_names=False,augment=True,\n",
        "            repeat=True,shuffle=False,dim=IMG_SIZES[fold],batch_size=BATCH_SIZES[fold])\n",
        "    ct_test = count_data_items(files_test) \n",
        "    STEPS = TTA * ct_test/BATCH_SIZES[fold]/REPLICAS\n",
        "    pred = model.predict(ds_test,steps=STEPS,verbose=VERBOSE)[:TTA*ct_test,]\n",
        "    preds[:,fold] = np.mean(pred.reshape((ct_test,TTA),order='F'),axis=1)\n",
        "\n",
        "ds = get_dataset(files_test,train=False, augment=False, repeat=False, dim=IMG_SIZES[fold],\n",
        "                 labeled=False, return_image_names=True)\n",
        "image_names = np.array([img_name.numpy().decode(\"utf-8\") \n",
        "                        for img, img_name in iter(ds.unbatch())])\n",
        "submission = pd.DataFrame(dict(image_name=image_names, target0=preds[:,0], target1=preds[:,1], \n",
        "                               target2=preds[:,2], target3=preds[:,3], target4=preds[:,4],\n",
        "                               target5=preds[:,5], target6=preds[:,6], target7=preds[:,7],\n",
        "                               target8=preds[:,8], target9=preds[:,9], target10=preds[:,10],\n",
        "                               target11=preds[:,11], target12=preds[:,12], target13=preds[:,13],\n",
        "                               target14=preds[:,14]))\n",
        "submission = submission.sort_values('image_name') \n",
        "submission.to_csv(os.path.join(PATH, 'submission_foldwise.csv'), index=False)"
      ],
      "execution_count": null,
      "outputs": [
        {
          "output_type": "stream",
          "text": [
            "WARNING:tensorflow:TPU system grpc://10.38.118.138:8470 has already been initialized. Reinitializing the TPU can cause previously created variables on TPU to be lost.\n"
          ],
          "name": "stdout"
        },
        {
          "output_type": "stream",
          "text": [
            "WARNING:tensorflow:TPU system grpc://10.38.118.138:8470 has already been initialized. Reinitializing the TPU can cause previously created variables on TPU to be lost.\n"
          ],
          "name": "stderr"
        },
        {
          "output_type": "stream",
          "text": [
            "INFO:tensorflow:Initializing the TPU system: grpc://10.38.118.138:8470\n"
          ],
          "name": "stdout"
        },
        {
          "output_type": "stream",
          "text": [
            "INFO:tensorflow:Initializing the TPU system: grpc://10.38.118.138:8470\n"
          ],
          "name": "stderr"
        },
        {
          "output_type": "stream",
          "text": [
            "INFO:tensorflow:Clearing out eager caches\n"
          ],
          "name": "stdout"
        },
        {
          "output_type": "stream",
          "text": [
            "INFO:tensorflow:Clearing out eager caches\n"
          ],
          "name": "stderr"
        },
        {
          "output_type": "stream",
          "text": [
            "INFO:tensorflow:Finished initializing TPU system.\n"
          ],
          "name": "stdout"
        },
        {
          "output_type": "stream",
          "text": [
            "INFO:tensorflow:Finished initializing TPU system.\n"
          ],
          "name": "stderr"
        },
        {
          "output_type": "stream",
          "text": [
            "#########################\n",
            "#### FOLD 1\n",
            "#### Image Size 384 with EfficientNet B5 and batch_size 256\n",
            "Loading best model...\n",
            "Predicting Test with TTA...\n",
            "858/857 [==============================] - 180s 210ms/step\n",
            "WARNING:tensorflow:TPU system grpc://10.38.118.138:8470 has already been initialized. Reinitializing the TPU can cause previously created variables on TPU to be lost.\n"
          ],
          "name": "stdout"
        },
        {
          "output_type": "stream",
          "text": [
            "WARNING:tensorflow:TPU system grpc://10.38.118.138:8470 has already been initialized. Reinitializing the TPU can cause previously created variables on TPU to be lost.\n"
          ],
          "name": "stderr"
        },
        {
          "output_type": "stream",
          "text": [
            "INFO:tensorflow:Initializing the TPU system: grpc://10.38.118.138:8470\n"
          ],
          "name": "stdout"
        },
        {
          "output_type": "stream",
          "text": [
            "INFO:tensorflow:Initializing the TPU system: grpc://10.38.118.138:8470\n"
          ],
          "name": "stderr"
        },
        {
          "output_type": "stream",
          "text": [
            "INFO:tensorflow:Clearing out eager caches\n"
          ],
          "name": "stdout"
        },
        {
          "output_type": "stream",
          "text": [
            "INFO:tensorflow:Clearing out eager caches\n"
          ],
          "name": "stderr"
        },
        {
          "output_type": "stream",
          "text": [
            "INFO:tensorflow:Finished initializing TPU system.\n"
          ],
          "name": "stdout"
        },
        {
          "output_type": "stream",
          "text": [
            "INFO:tensorflow:Finished initializing TPU system.\n"
          ],
          "name": "stderr"
        },
        {
          "output_type": "stream",
          "text": [
            "#########################\n",
            "#### FOLD 2\n",
            "#### Image Size 384 with EfficientNet B5 and batch_size 256\n",
            "Loading best model...\n",
            "Predicting Test with TTA...\n",
            "858/857 [==============================] - 179s 209ms/step\n",
            "WARNING:tensorflow:TPU system grpc://10.38.118.138:8470 has already been initialized. Reinitializing the TPU can cause previously created variables on TPU to be lost.\n"
          ],
          "name": "stdout"
        },
        {
          "output_type": "stream",
          "text": [
            "WARNING:tensorflow:TPU system grpc://10.38.118.138:8470 has already been initialized. Reinitializing the TPU can cause previously created variables on TPU to be lost.\n"
          ],
          "name": "stderr"
        },
        {
          "output_type": "stream",
          "text": [
            "INFO:tensorflow:Initializing the TPU system: grpc://10.38.118.138:8470\n"
          ],
          "name": "stdout"
        },
        {
          "output_type": "stream",
          "text": [
            "INFO:tensorflow:Initializing the TPU system: grpc://10.38.118.138:8470\n"
          ],
          "name": "stderr"
        },
        {
          "output_type": "stream",
          "text": [
            "INFO:tensorflow:Clearing out eager caches\n"
          ],
          "name": "stdout"
        },
        {
          "output_type": "stream",
          "text": [
            "INFO:tensorflow:Clearing out eager caches\n"
          ],
          "name": "stderr"
        },
        {
          "output_type": "stream",
          "text": [
            "INFO:tensorflow:Finished initializing TPU system.\n"
          ],
          "name": "stdout"
        },
        {
          "output_type": "stream",
          "text": [
            "INFO:tensorflow:Finished initializing TPU system.\n"
          ],
          "name": "stderr"
        },
        {
          "output_type": "stream",
          "text": [
            "#########################\n",
            "#### FOLD 3\n",
            "#### Image Size 384 with EfficientNet B5 and batch_size 256\n",
            "Loading best model...\n",
            "Predicting Test with TTA...\n",
            "858/857 [==============================] - 183s 213ms/step\n",
            "WARNING:tensorflow:TPU system grpc://10.38.118.138:8470 has already been initialized. Reinitializing the TPU can cause previously created variables on TPU to be lost.\n"
          ],
          "name": "stdout"
        },
        {
          "output_type": "stream",
          "text": [
            "WARNING:tensorflow:TPU system grpc://10.38.118.138:8470 has already been initialized. Reinitializing the TPU can cause previously created variables on TPU to be lost.\n"
          ],
          "name": "stderr"
        },
        {
          "output_type": "stream",
          "text": [
            "INFO:tensorflow:Initializing the TPU system: grpc://10.38.118.138:8470\n"
          ],
          "name": "stdout"
        },
        {
          "output_type": "stream",
          "text": [
            "INFO:tensorflow:Initializing the TPU system: grpc://10.38.118.138:8470\n"
          ],
          "name": "stderr"
        },
        {
          "output_type": "stream",
          "text": [
            "INFO:tensorflow:Clearing out eager caches\n"
          ],
          "name": "stdout"
        },
        {
          "output_type": "stream",
          "text": [
            "INFO:tensorflow:Clearing out eager caches\n"
          ],
          "name": "stderr"
        },
        {
          "output_type": "stream",
          "text": [
            "INFO:tensorflow:Finished initializing TPU system.\n"
          ],
          "name": "stdout"
        },
        {
          "output_type": "stream",
          "text": [
            "INFO:tensorflow:Finished initializing TPU system.\n"
          ],
          "name": "stderr"
        },
        {
          "output_type": "stream",
          "text": [
            "#########################\n",
            "#### FOLD 4\n",
            "#### Image Size 384 with EfficientNet B5 and batch_size 256\n",
            "Loading best model...\n",
            "Predicting Test with TTA...\n",
            "858/857 [==============================] - 183s 213ms/step\n",
            "WARNING:tensorflow:TPU system grpc://10.38.118.138:8470 has already been initialized. Reinitializing the TPU can cause previously created variables on TPU to be lost.\n"
          ],
          "name": "stdout"
        },
        {
          "output_type": "stream",
          "text": [
            "WARNING:tensorflow:TPU system grpc://10.38.118.138:8470 has already been initialized. Reinitializing the TPU can cause previously created variables on TPU to be lost.\n"
          ],
          "name": "stderr"
        },
        {
          "output_type": "stream",
          "text": [
            "INFO:tensorflow:Initializing the TPU system: grpc://10.38.118.138:8470\n"
          ],
          "name": "stdout"
        },
        {
          "output_type": "stream",
          "text": [
            "INFO:tensorflow:Initializing the TPU system: grpc://10.38.118.138:8470\n"
          ],
          "name": "stderr"
        },
        {
          "output_type": "stream",
          "text": [
            "INFO:tensorflow:Clearing out eager caches\n"
          ],
          "name": "stdout"
        },
        {
          "output_type": "stream",
          "text": [
            "INFO:tensorflow:Clearing out eager caches\n"
          ],
          "name": "stderr"
        },
        {
          "output_type": "stream",
          "text": [
            "INFO:tensorflow:Finished initializing TPU system.\n"
          ],
          "name": "stdout"
        },
        {
          "output_type": "stream",
          "text": [
            "INFO:tensorflow:Finished initializing TPU system.\n"
          ],
          "name": "stderr"
        },
        {
          "output_type": "stream",
          "text": [
            "#########################\n",
            "#### FOLD 5\n",
            "#### Image Size 384 with EfficientNet B5 and batch_size 256\n",
            "Loading best model...\n",
            "Predicting Test with TTA...\n",
            "858/857 [==============================] - 182s 212ms/step\n",
            "WARNING:tensorflow:TPU system grpc://10.38.118.138:8470 has already been initialized. Reinitializing the TPU can cause previously created variables on TPU to be lost.\n"
          ],
          "name": "stdout"
        },
        {
          "output_type": "stream",
          "text": [
            "WARNING:tensorflow:TPU system grpc://10.38.118.138:8470 has already been initialized. Reinitializing the TPU can cause previously created variables on TPU to be lost.\n"
          ],
          "name": "stderr"
        },
        {
          "output_type": "stream",
          "text": [
            "INFO:tensorflow:Initializing the TPU system: grpc://10.38.118.138:8470\n"
          ],
          "name": "stdout"
        },
        {
          "output_type": "stream",
          "text": [
            "INFO:tensorflow:Initializing the TPU system: grpc://10.38.118.138:8470\n"
          ],
          "name": "stderr"
        },
        {
          "output_type": "stream",
          "text": [
            "INFO:tensorflow:Clearing out eager caches\n"
          ],
          "name": "stdout"
        },
        {
          "output_type": "stream",
          "text": [
            "INFO:tensorflow:Clearing out eager caches\n"
          ],
          "name": "stderr"
        },
        {
          "output_type": "stream",
          "text": [
            "INFO:tensorflow:Finished initializing TPU system.\n"
          ],
          "name": "stdout"
        },
        {
          "output_type": "stream",
          "text": [
            "INFO:tensorflow:Finished initializing TPU system.\n"
          ],
          "name": "stderr"
        },
        {
          "output_type": "stream",
          "text": [
            "#########################\n",
            "#### FOLD 6\n",
            "#### Image Size 384 with EfficientNet B5 and batch_size 256\n",
            "Loading best model...\n",
            "Predicting Test with TTA...\n",
            "858/857 [==============================] - 183s 213ms/step\n",
            "WARNING:tensorflow:TPU system grpc://10.38.118.138:8470 has already been initialized. Reinitializing the TPU can cause previously created variables on TPU to be lost.\n"
          ],
          "name": "stdout"
        },
        {
          "output_type": "stream",
          "text": [
            "WARNING:tensorflow:TPU system grpc://10.38.118.138:8470 has already been initialized. Reinitializing the TPU can cause previously created variables on TPU to be lost.\n"
          ],
          "name": "stderr"
        },
        {
          "output_type": "stream",
          "text": [
            "INFO:tensorflow:Initializing the TPU system: grpc://10.38.118.138:8470\n"
          ],
          "name": "stdout"
        },
        {
          "output_type": "stream",
          "text": [
            "INFO:tensorflow:Initializing the TPU system: grpc://10.38.118.138:8470\n"
          ],
          "name": "stderr"
        },
        {
          "output_type": "stream",
          "text": [
            "INFO:tensorflow:Clearing out eager caches\n"
          ],
          "name": "stdout"
        },
        {
          "output_type": "stream",
          "text": [
            "INFO:tensorflow:Clearing out eager caches\n"
          ],
          "name": "stderr"
        },
        {
          "output_type": "stream",
          "text": [
            "INFO:tensorflow:Finished initializing TPU system.\n"
          ],
          "name": "stdout"
        },
        {
          "output_type": "stream",
          "text": [
            "INFO:tensorflow:Finished initializing TPU system.\n"
          ],
          "name": "stderr"
        },
        {
          "output_type": "stream",
          "text": [
            "#########################\n",
            "#### FOLD 7\n",
            "#### Image Size 384 with EfficientNet B5 and batch_size 256\n"
          ],
          "name": "stdout"
        }
      ]
    },
    {
      "cell_type": "code",
      "metadata": {
        "trusted": true,
        "id": "WG19SQn0jkxs",
        "colab_type": "code",
        "colab": {
          "base_uri": "https://localhost:8080/",
          "height": 669
        },
        "outputId": "e6765a91-097e-4cde-fcd8-8d62c293fdf0"
      },
      "source": [
        "df_oof = pd.read_csv(os.path.join(PATH, 'oof_final.csv'))\n",
        "df_oof.sort_values(by='pred', ascending=False).head(20)"
      ],
      "execution_count": null,
      "outputs": [
        {
          "output_type": "execute_result",
          "data": {
            "text/html": [
              "<div>\n",
              "<style scoped>\n",
              "    .dataframe tbody tr th:only-of-type {\n",
              "        vertical-align: middle;\n",
              "    }\n",
              "\n",
              "    .dataframe tbody tr th {\n",
              "        vertical-align: top;\n",
              "    }\n",
              "\n",
              "    .dataframe thead th {\n",
              "        text-align: right;\n",
              "    }\n",
              "</style>\n",
              "<table border=\"1\" class=\"dataframe\">\n",
              "  <thead>\n",
              "    <tr style=\"text-align: right;\">\n",
              "      <th></th>\n",
              "      <th>image_name</th>\n",
              "      <th>target</th>\n",
              "      <th>pred</th>\n",
              "      <th>fold</th>\n",
              "    </tr>\n",
              "  </thead>\n",
              "  <tbody>\n",
              "    <tr>\n",
              "      <th>5844</th>\n",
              "      <td>ISIC_6932951</td>\n",
              "      <td>0</td>\n",
              "      <td>0.993202</td>\n",
              "      <td>2</td>\n",
              "    </tr>\n",
              "    <tr>\n",
              "      <th>12202</th>\n",
              "      <td>ISIC_5867911</td>\n",
              "      <td>1</td>\n",
              "      <td>0.982094</td>\n",
              "      <td>5</td>\n",
              "    </tr>\n",
              "    <tr>\n",
              "      <th>2931</th>\n",
              "      <td>ISIC_3697702</td>\n",
              "      <td>1</td>\n",
              "      <td>0.980361</td>\n",
              "      <td>1</td>\n",
              "    </tr>\n",
              "    <tr>\n",
              "      <th>16256</th>\n",
              "      <td>ISIC_4566200</td>\n",
              "      <td>0</td>\n",
              "      <td>0.978187</td>\n",
              "      <td>7</td>\n",
              "    </tr>\n",
              "    <tr>\n",
              "      <th>1422</th>\n",
              "      <td>ISIC_6841294</td>\n",
              "      <td>1</td>\n",
              "      <td>0.978181</td>\n",
              "      <td>0</td>\n",
              "    </tr>\n",
              "    <tr>\n",
              "      <th>19006</th>\n",
              "      <td>ISIC_7236143</td>\n",
              "      <td>0</td>\n",
              "      <td>0.976707</td>\n",
              "      <td>8</td>\n",
              "    </tr>\n",
              "    <tr>\n",
              "      <th>15486</th>\n",
              "      <td>ISIC_1016695</td>\n",
              "      <td>0</td>\n",
              "      <td>0.974736</td>\n",
              "      <td>7</td>\n",
              "    </tr>\n",
              "    <tr>\n",
              "      <th>1076</th>\n",
              "      <td>ISIC_5260050</td>\n",
              "      <td>1</td>\n",
              "      <td>0.973104</td>\n",
              "      <td>0</td>\n",
              "    </tr>\n",
              "    <tr>\n",
              "      <th>4855</th>\n",
              "      <td>ISIC_2535541</td>\n",
              "      <td>1</td>\n",
              "      <td>0.965168</td>\n",
              "      <td>2</td>\n",
              "    </tr>\n",
              "    <tr>\n",
              "      <th>15818</th>\n",
              "      <td>ISIC_2529871</td>\n",
              "      <td>0</td>\n",
              "      <td>0.956549</td>\n",
              "      <td>7</td>\n",
              "    </tr>\n",
              "    <tr>\n",
              "      <th>13010</th>\n",
              "      <td>ISIC_9548821</td>\n",
              "      <td>1</td>\n",
              "      <td>0.954729</td>\n",
              "      <td>5</td>\n",
              "    </tr>\n",
              "    <tr>\n",
              "      <th>1614</th>\n",
              "      <td>ISIC_7788318</td>\n",
              "      <td>1</td>\n",
              "      <td>0.949998</td>\n",
              "      <td>0</td>\n",
              "    </tr>\n",
              "    <tr>\n",
              "      <th>24304</th>\n",
              "      <td>ISIC_1589997</td>\n",
              "      <td>1</td>\n",
              "      <td>0.948906</td>\n",
              "      <td>11</td>\n",
              "    </tr>\n",
              "    <tr>\n",
              "      <th>4087</th>\n",
              "      <td>ISIC_8866651</td>\n",
              "      <td>1</td>\n",
              "      <td>0.945882</td>\n",
              "      <td>1</td>\n",
              "    </tr>\n",
              "    <tr>\n",
              "      <th>735</th>\n",
              "      <td>ISIC_3684488</td>\n",
              "      <td>1</td>\n",
              "      <td>0.944032</td>\n",
              "      <td>0</td>\n",
              "    </tr>\n",
              "    <tr>\n",
              "      <th>32154</th>\n",
              "      <td>ISIC_7466678</td>\n",
              "      <td>1</td>\n",
              "      <td>0.943833</td>\n",
              "      <td>14</td>\n",
              "    </tr>\n",
              "    <tr>\n",
              "      <th>3226</th>\n",
              "      <td>ISIC_5136151</td>\n",
              "      <td>0</td>\n",
              "      <td>0.941242</td>\n",
              "      <td>1</td>\n",
              "    </tr>\n",
              "    <tr>\n",
              "      <th>12136</th>\n",
              "      <td>ISIC_5581931</td>\n",
              "      <td>1</td>\n",
              "      <td>0.941087</td>\n",
              "      <td>5</td>\n",
              "    </tr>\n",
              "    <tr>\n",
              "      <th>30333</th>\n",
              "      <td>ISIC_9199429</td>\n",
              "      <td>1</td>\n",
              "      <td>0.938609</td>\n",
              "      <td>13</td>\n",
              "    </tr>\n",
              "    <tr>\n",
              "      <th>27442</th>\n",
              "      <td>ISIC_5698006</td>\n",
              "      <td>0</td>\n",
              "      <td>0.937945</td>\n",
              "      <td>12</td>\n",
              "    </tr>\n",
              "  </tbody>\n",
              "</table>\n",
              "</div>"
            ],
            "text/plain": [
              "         image_name  target      pred  fold\n",
              "5844   ISIC_6932951       0  0.993202     2\n",
              "12202  ISIC_5867911       1  0.982094     5\n",
              "2931   ISIC_3697702       1  0.980361     1\n",
              "16256  ISIC_4566200       0  0.978187     7\n",
              "1422   ISIC_6841294       1  0.978181     0\n",
              "19006  ISIC_7236143       0  0.976707     8\n",
              "15486  ISIC_1016695       0  0.974736     7\n",
              "1076   ISIC_5260050       1  0.973104     0\n",
              "4855   ISIC_2535541       1  0.965168     2\n",
              "15818  ISIC_2529871       0  0.956549     7\n",
              "13010  ISIC_9548821       1  0.954729     5\n",
              "1614   ISIC_7788318       1  0.949998     0\n",
              "24304  ISIC_1589997       1  0.948906    11\n",
              "4087   ISIC_8866651       1  0.945882     1\n",
              "735    ISIC_3684488       1  0.944032     0\n",
              "32154  ISIC_7466678       1  0.943833    14\n",
              "3226   ISIC_5136151       0  0.941242     1\n",
              "12136  ISIC_5581931       1  0.941087     5\n",
              "30333  ISIC_9199429       1  0.938609    13\n",
              "27442  ISIC_5698006       0  0.937945    12"
            ]
          },
          "metadata": {
            "tags": []
          },
          "execution_count": 16
        }
      ]
    },
    {
      "cell_type": "code",
      "metadata": {
        "id": "Lt7nIG2b2Wn6",
        "colab_type": "code",
        "colab": {
          "base_uri": "https://localhost:8080/",
          "height": 34
        },
        "outputId": "6100a16a-ac72-44a4-c5a8-2c73d8441342"
      },
      "source": [
        "roc_auc_score(df_oof['target'],df_oof['pred'])"
      ],
      "execution_count": null,
      "outputs": [
        {
          "output_type": "execute_result",
          "data": {
            "text/plain": [
              "0.9423421049542489"
            ]
          },
          "metadata": {
            "tags": []
          },
          "execution_count": 17
        }
      ]
    },
    {
      "cell_type": "code",
      "metadata": {
        "id": "-FRjxkq4xnST",
        "colab_type": "code",
        "colab": {
          "base_uri": "https://localhost:8080/",
          "height": 204
        },
        "outputId": "d14cc74c-7006-4507-b315-d6e4df7f9f99"
      },
      "source": [
        "submission_df = pd.read_csv(os.path.join(PATH, 'submission_foldwise.csv'))\n",
        "submission_df.head()"
      ],
      "execution_count": null,
      "outputs": [
        {
          "output_type": "execute_result",
          "data": {
            "text/html": [
              "<div>\n",
              "<style scoped>\n",
              "    .dataframe tbody tr th:only-of-type {\n",
              "        vertical-align: middle;\n",
              "    }\n",
              "\n",
              "    .dataframe tbody tr th {\n",
              "        vertical-align: top;\n",
              "    }\n",
              "\n",
              "    .dataframe thead th {\n",
              "        text-align: right;\n",
              "    }\n",
              "</style>\n",
              "<table border=\"1\" class=\"dataframe\">\n",
              "  <thead>\n",
              "    <tr style=\"text-align: right;\">\n",
              "      <th></th>\n",
              "      <th>image_name</th>\n",
              "      <th>target0</th>\n",
              "      <th>target1</th>\n",
              "      <th>target2</th>\n",
              "      <th>target3</th>\n",
              "      <th>target4</th>\n",
              "      <th>target5</th>\n",
              "      <th>target6</th>\n",
              "      <th>target7</th>\n",
              "      <th>target8</th>\n",
              "      <th>target9</th>\n",
              "      <th>target10</th>\n",
              "      <th>target11</th>\n",
              "      <th>target12</th>\n",
              "      <th>target13</th>\n",
              "      <th>target14</th>\n",
              "    </tr>\n",
              "  </thead>\n",
              "  <tbody>\n",
              "    <tr>\n",
              "      <th>0</th>\n",
              "      <td>ISIC_0052060</td>\n",
              "      <td>0.002760</td>\n",
              "      <td>0.005866</td>\n",
              "      <td>0.002587</td>\n",
              "      <td>0.004299</td>\n",
              "      <td>0.002004</td>\n",
              "      <td>0.005881</td>\n",
              "      <td>0.003851</td>\n",
              "      <td>0.008115</td>\n",
              "      <td>0.002983</td>\n",
              "      <td>0.009171</td>\n",
              "      <td>0.012939</td>\n",
              "      <td>0.014608</td>\n",
              "      <td>0.000856</td>\n",
              "      <td>0.002883</td>\n",
              "      <td>0.001169</td>\n",
              "    </tr>\n",
              "    <tr>\n",
              "      <th>1</th>\n",
              "      <td>ISIC_0052349</td>\n",
              "      <td>0.000583</td>\n",
              "      <td>0.003385</td>\n",
              "      <td>0.001244</td>\n",
              "      <td>0.001454</td>\n",
              "      <td>0.000739</td>\n",
              "      <td>0.000788</td>\n",
              "      <td>0.005049</td>\n",
              "      <td>0.002736</td>\n",
              "      <td>0.005135</td>\n",
              "      <td>0.006291</td>\n",
              "      <td>0.005857</td>\n",
              "      <td>0.003969</td>\n",
              "      <td>0.002280</td>\n",
              "      <td>0.004716</td>\n",
              "      <td>0.000594</td>\n",
              "    </tr>\n",
              "    <tr>\n",
              "      <th>2</th>\n",
              "      <td>ISIC_0058510</td>\n",
              "      <td>0.002536</td>\n",
              "      <td>0.003809</td>\n",
              "      <td>0.002115</td>\n",
              "      <td>0.004573</td>\n",
              "      <td>0.006081</td>\n",
              "      <td>0.002072</td>\n",
              "      <td>0.012542</td>\n",
              "      <td>0.004136</td>\n",
              "      <td>0.001837</td>\n",
              "      <td>0.002026</td>\n",
              "      <td>0.003383</td>\n",
              "      <td>0.011137</td>\n",
              "      <td>0.005716</td>\n",
              "      <td>0.021800</td>\n",
              "      <td>0.000619</td>\n",
              "    </tr>\n",
              "    <tr>\n",
              "      <th>3</th>\n",
              "      <td>ISIC_0073313</td>\n",
              "      <td>0.005101</td>\n",
              "      <td>0.003043</td>\n",
              "      <td>0.004098</td>\n",
              "      <td>0.005787</td>\n",
              "      <td>0.006521</td>\n",
              "      <td>0.001070</td>\n",
              "      <td>0.017038</td>\n",
              "      <td>0.003172</td>\n",
              "      <td>0.002116</td>\n",
              "      <td>0.002350</td>\n",
              "      <td>0.005058</td>\n",
              "      <td>0.003368</td>\n",
              "      <td>0.008654</td>\n",
              "      <td>0.003053</td>\n",
              "      <td>0.004752</td>\n",
              "    </tr>\n",
              "    <tr>\n",
              "      <th>4</th>\n",
              "      <td>ISIC_0073502</td>\n",
              "      <td>0.006165</td>\n",
              "      <td>0.004011</td>\n",
              "      <td>0.001172</td>\n",
              "      <td>0.013565</td>\n",
              "      <td>0.005787</td>\n",
              "      <td>0.010248</td>\n",
              "      <td>0.051425</td>\n",
              "      <td>0.012743</td>\n",
              "      <td>0.007094</td>\n",
              "      <td>0.023242</td>\n",
              "      <td>0.022490</td>\n",
              "      <td>0.003614</td>\n",
              "      <td>0.010583</td>\n",
              "      <td>0.005133</td>\n",
              "      <td>0.009109</td>\n",
              "    </tr>\n",
              "  </tbody>\n",
              "</table>\n",
              "</div>"
            ],
            "text/plain": [
              "     image_name   target0   target1  ...  target12  target13  target14\n",
              "0  ISIC_0052060  0.002760  0.005866  ...  0.000856  0.002883  0.001169\n",
              "1  ISIC_0052349  0.000583  0.003385  ...  0.002280  0.004716  0.000594\n",
              "2  ISIC_0058510  0.002536  0.003809  ...  0.005716  0.021800  0.000619\n",
              "3  ISIC_0073313  0.005101  0.003043  ...  0.008654  0.003053  0.004752\n",
              "4  ISIC_0073502  0.006165  0.004011  ...  0.010583  0.005133  0.009109\n",
              "\n",
              "[5 rows x 16 columns]"
            ]
          },
          "metadata": {
            "tags": []
          },
          "execution_count": 18
        }
      ]
    },
    {
      "cell_type": "code",
      "metadata": {
        "id": "rY1Mm8awv-cI",
        "colab_type": "code",
        "colab": {
          "base_uri": "https://localhost:8080/",
          "height": 265
        },
        "outputId": "757e2f15-f375-4ec4-8be6-a87e80be18cb"
      },
      "source": [
        "plt.hist(submission_df.target0,bins=100)\n",
        "plt.show()"
      ],
      "execution_count": null,
      "outputs": [
        {
          "output_type": "display_data",
          "data": {
            "image/png": "[encoded data removed]",
            "text/plain": [
              "<Figure size 432x288 with 1 Axes>"
            ]
          },
          "metadata": {
            "tags": [],
            "needs_background": "light"
          }
        }
      ]
    },
    {
      "cell_type": "code",
      "metadata": {
        "id": "2Cq_Xec8FjtC",
        "colab_type": "code",
        "colab": {
          "base_uri": "https://localhost:8080/",
          "height": 34
        },
        "outputId": "6c3f36c6-a42a-4064-deec-7e06c284b652"
      },
      "source": [
        "submission_df = pd.read_csv(os.path.join(PATH, 'submission_foldwise.csv'))\n",
        "submission_df.head()\n",
        "def MeanStacking(submission):\n",
        "    print('Folds - ', FOLDS)\n",
        "    submission['target'] = submission.iloc[:, 1:FOLDS+1].mean(axis=1)\n",
        "    submission[['image_name', 'target']].to_csv(os.path.join(PATH, 'submission_mean.csv'), index=False)\n",
        "    return submission\n",
        "\n",
        "submission = MeanStacking(submission_df)"
      ],
      "execution_count": null,
      "outputs": [
        {
          "output_type": "stream",
          "text": [
            "Folds -  15\n"
          ],
          "name": "stdout"
        }
      ]
    },
    {
      "cell_type": "code",
      "metadata": {
        "id": "rWf1Cs0ueTsV",
        "colab_type": "code",
        "colab": {
          "base_uri": "https://localhost:8080/",
          "height": 224
        },
        "outputId": "61cd74cb-5369-4d1f-c934-81a7c828b6e1"
      },
      "source": [
        "submission.sort_values(by='target', ascending=False).head()"
      ],
      "execution_count": null,
      "outputs": [
        {
          "output_type": "execute_result",
          "data": {
            "text/html": [
              "<div>\n",
              "<style scoped>\n",
              "    .dataframe tbody tr th:only-of-type {\n",
              "        vertical-align: middle;\n",
              "    }\n",
              "\n",
              "    .dataframe tbody tr th {\n",
              "        vertical-align: top;\n",
              "    }\n",
              "\n",
              "    .dataframe thead th {\n",
              "        text-align: right;\n",
              "    }\n",
              "</style>\n",
              "<table border=\"1\" class=\"dataframe\">\n",
              "  <thead>\n",
              "    <tr style=\"text-align: right;\">\n",
              "      <th></th>\n",
              "      <th>image_name</th>\n",
              "      <th>target0</th>\n",
              "      <th>target1</th>\n",
              "      <th>target2</th>\n",
              "      <th>target3</th>\n",
              "      <th>target4</th>\n",
              "      <th>target5</th>\n",
              "      <th>target6</th>\n",
              "      <th>target7</th>\n",
              "      <th>target8</th>\n",
              "      <th>target9</th>\n",
              "      <th>target10</th>\n",
              "      <th>target11</th>\n",
              "      <th>target12</th>\n",
              "      <th>target13</th>\n",
              "      <th>target14</th>\n",
              "      <th>target</th>\n",
              "    </tr>\n",
              "  </thead>\n",
              "  <tbody>\n",
              "    <tr>\n",
              "      <th>7415</th>\n",
              "      <td>ISIC_6724629</td>\n",
              "      <td>0.971995</td>\n",
              "      <td>0.976052</td>\n",
              "      <td>0.980986</td>\n",
              "      <td>0.975235</td>\n",
              "      <td>0.961288</td>\n",
              "      <td>0.981735</td>\n",
              "      <td>0.904290</td>\n",
              "      <td>0.981544</td>\n",
              "      <td>0.940152</td>\n",
              "      <td>0.979962</td>\n",
              "      <td>0.959515</td>\n",
              "      <td>0.959038</td>\n",
              "      <td>0.971537</td>\n",
              "      <td>0.977486</td>\n",
              "      <td>0.916512</td>\n",
              "      <td>0.962489</td>\n",
              "    </tr>\n",
              "    <tr>\n",
              "      <th>592</th>\n",
              "      <td>ISIC_0634896</td>\n",
              "      <td>0.954004</td>\n",
              "      <td>0.947693</td>\n",
              "      <td>0.993089</td>\n",
              "      <td>0.983185</td>\n",
              "      <td>0.708598</td>\n",
              "      <td>0.961721</td>\n",
              "      <td>0.952265</td>\n",
              "      <td>0.980225</td>\n",
              "      <td>0.990385</td>\n",
              "      <td>0.973449</td>\n",
              "      <td>0.915451</td>\n",
              "      <td>0.971673</td>\n",
              "      <td>0.929803</td>\n",
              "      <td>0.929145</td>\n",
              "      <td>0.964636</td>\n",
              "      <td>0.943688</td>\n",
              "    </tr>\n",
              "    <tr>\n",
              "      <th>7199</th>\n",
              "      <td>ISIC_6518088</td>\n",
              "      <td>0.929571</td>\n",
              "      <td>0.985251</td>\n",
              "      <td>0.977078</td>\n",
              "      <td>0.921953</td>\n",
              "      <td>0.937872</td>\n",
              "      <td>0.963960</td>\n",
              "      <td>0.911113</td>\n",
              "      <td>0.946191</td>\n",
              "      <td>0.944934</td>\n",
              "      <td>0.873507</td>\n",
              "      <td>0.910072</td>\n",
              "      <td>0.944292</td>\n",
              "      <td>0.975338</td>\n",
              "      <td>0.955416</td>\n",
              "      <td>0.966348</td>\n",
              "      <td>0.942860</td>\n",
              "    </tr>\n",
              "    <tr>\n",
              "      <th>4613</th>\n",
              "      <td>ISIC_4258047</td>\n",
              "      <td>0.876762</td>\n",
              "      <td>0.948864</td>\n",
              "      <td>0.954489</td>\n",
              "      <td>0.955183</td>\n",
              "      <td>0.934035</td>\n",
              "      <td>0.959129</td>\n",
              "      <td>0.892395</td>\n",
              "      <td>0.944172</td>\n",
              "      <td>0.947131</td>\n",
              "      <td>0.959862</td>\n",
              "      <td>0.923624</td>\n",
              "      <td>0.930422</td>\n",
              "      <td>0.864986</td>\n",
              "      <td>0.938583</td>\n",
              "      <td>0.951609</td>\n",
              "      <td>0.932083</td>\n",
              "    </tr>\n",
              "    <tr>\n",
              "      <th>7200</th>\n",
              "      <td>ISIC_6519116</td>\n",
              "      <td>0.966338</td>\n",
              "      <td>0.972402</td>\n",
              "      <td>0.963700</td>\n",
              "      <td>0.937415</td>\n",
              "      <td>0.951794</td>\n",
              "      <td>0.958882</td>\n",
              "      <td>0.889422</td>\n",
              "      <td>0.915307</td>\n",
              "      <td>0.942706</td>\n",
              "      <td>0.929582</td>\n",
              "      <td>0.907949</td>\n",
              "      <td>0.887555</td>\n",
              "      <td>0.923501</td>\n",
              "      <td>0.935066</td>\n",
              "      <td>0.884289</td>\n",
              "      <td>0.931061</td>\n",
              "    </tr>\n",
              "  </tbody>\n",
              "</table>\n",
              "</div>"
            ],
            "text/plain": [
              "        image_name   target0   target1  ...  target13  target14    target\n",
              "7415  ISIC_6724629  0.971995  0.976052  ...  0.977486  0.916512  0.962489\n",
              "592   ISIC_0634896  0.954004  0.947693  ...  0.929145  0.964636  0.943688\n",
              "7199  ISIC_6518088  0.929571  0.985251  ...  0.955416  0.966348  0.942860\n",
              "4613  ISIC_4258047  0.876762  0.948864  ...  0.938583  0.951609  0.932083\n",
              "7200  ISIC_6519116  0.966338  0.972402  ...  0.935066  0.884289  0.931061\n",
              "\n",
              "[5 rows x 17 columns]"
            ]
          },
          "metadata": {
            "tags": []
          },
          "execution_count": 21
        }
      ]
    },
    {
      "cell_type": "code",
      "metadata": {
        "id": "5u_dgcyKHLY6",
        "colab_type": "code",
        "colab": {
          "base_uri": "https://localhost:8080/",
          "height": 265
        },
        "outputId": "871740bb-dcda-4de3-d081-56718ce87230"
      },
      "source": [
        "plt.hist(submission.target,bins=100)\n",
        "plt.show()"
      ],
      "execution_count": null,
      "outputs": [
        {
          "output_type": "display_data",
          "data": {
            "image/png": "[encoded data removed]",
            "text/plain": [
              "<Figure size 432x288 with 1 Axes>"
            ]
          },
          "metadata": {
            "tags": [],
            "needs_background": "light"
          }
        }
      ]
    }
  ]
}